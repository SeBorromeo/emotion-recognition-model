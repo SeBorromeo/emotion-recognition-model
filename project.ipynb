{
  "cells": [
    {
      "cell_type": "markdown",
      "metadata": {
        "id": "KQb_AHyogru3"
      },
      "source": [
        "# CS 4501: Computer Vision -- Detecting Human Emotions through Videos\n",
        "### Akira Durham (zup9su) and Sebastian Borromeo (uwg3xs)"
      ]
    },
    {
      "cell_type": "code",
      "source": [
        "# imports\n",
        "# !pip install --upgrade numpy==1.26.4\n",
        "# !pip install torchcam\n",
        "# !pip install --upgrade --force-reinstall torchvision\n",
        "import csv\n",
        "import cv2\n",
        "import numpy as np\n",
        "from PIL import Image\n",
        "from torchvision import transforms\n",
        "import torch\n",
        "import torch.nn as nn\n",
        "from torch import optim\n",
        "from torch.utils.data import Dataset, DataLoader\n",
        "from torchcam.methods import GradCAM\n",
        "import matplotlib.pyplot as plt\n",
        "import time\n",
        "import torchvision.models as models\n",
        "import pandas as pd\n",
        "import seaborn as sns\n",
        "from sklearn.metrics import confusion_matrix\n",
        "\n",
        "\n",
        "from google.colab.patches import cv2_imshow\n",
        "from IPython.display import display, clear_output"
      ],
      "metadata": {
        "id": "SNoVgze1kIUR"
      },
      "execution_count": 44,
      "outputs": []
    },
    {
      "cell_type": "markdown",
      "source": [
        "### Methods"
      ],
      "metadata": {
        "id": "62kHBWy54ykj"
      }
    },
    {
      "cell_type": "markdown",
      "source": [
        "https://pytorch.org/tutorials/beginner/data_loading_tutorial.html"
      ],
      "metadata": {
        "id": "LvlCaXZn4ykj"
      }
    },
    {
      "cell_type": "code",
      "source": [
        "class ProcessData(Dataset):\n",
        "    def __init__(self, data, labels, transform=None):\n",
        "        self.data = data\n",
        "        self.labels = labels\n",
        "        self.transform = transform\n",
        "\n",
        "    def __len__(self):\n",
        "        return len(self.data)\n",
        "\n",
        "    def __getitem__(self, idx):\n",
        "        data = Image.fromarray(self.data[idx])\n",
        "        label = self.labels[idx]\n",
        "        data = self.transform(data)\n",
        "\n",
        "        return data, label"
      ],
      "metadata": {
        "id": "lhsl6jOZ4ykk"
      },
      "execution_count": 2,
      "outputs": []
    },
    {
      "cell_type": "code",
      "source": [
        "# https://pytorch.org/vision/main/transforms.html\n",
        "transform_train = transforms.Compose([\n",
        "    transforms.RandomHorizontalFlip(p=0.35),\n",
        "    transforms.RandomApply([transforms.RandomRotation(10)], p=0.35),\n",
        "    transforms.RandomApply([transforms.RandomResizedCrop(size=48, scale=(0.8, 1.2))], p=0.35),\n",
        "    transforms.RandomApply([transforms.RandomAffine(degrees=0, translate=(0.1, 0.1))], p=0.35),\n",
        "    transforms.ToTensor(),\n",
        "    transforms.Normalize((0.5,), (0.5,))\n",
        "])\n",
        "transform_test = transforms.Compose([\n",
        "    transforms.ToTensor(),\n",
        "    transforms.Normalize((0.5,), (0.5,))\n",
        "])"
      ],
      "metadata": {
        "id": "P-m0OmfdeKbH"
      },
      "execution_count": 3,
      "outputs": []
    },
    {
      "cell_type": "code",
      "source": [
        "transform_train_vgg = transforms.Compose([\n",
        "    transforms.Grayscale(num_output_channels=3),\n",
        "    transforms.Resize(224),\n",
        "    transforms.RandomHorizontalFlip(p=0.35),\n",
        "    transforms.RandomApply([transforms.RandomRotation(10)], p=0.35),\n",
        "    transforms.RandomApply([transforms.RandomResizedCrop(size=224, scale=(0.8, 1.2))], p=0.35),\n",
        "    transforms.RandomApply([transforms.RandomAffine(degrees=0, translate=(0.1, 0.1))], p=0.35),\n",
        "    transforms.ToTensor(),\n",
        "    transforms.Normalize([0.485, 0.456, 0.406], [0.229, 0.224, 0.225]),\n",
        "])\n",
        "transform_test_vgg = transforms.Compose([\n",
        "    transforms.Grayscale(num_output_channels=3),\n",
        "    transforms.Resize(224),\n",
        "    transforms.ToTensor(),\n",
        "    transforms.Normalize([0.485, 0.456, 0.406], [0.229, 0.224, 0.225]),\n",
        "])"
      ],
      "metadata": {
        "id": "5eN4r9azeO7Q"
      },
      "execution_count": null,
      "outputs": []
    },
    {
      "cell_type": "code",
      "source": [
        "transform_train_res = transforms.Compose([\n",
        "    transforms.Grayscale(num_output_channels=3),\n",
        "    transforms.Resize(224),\n",
        "    transforms.RandomHorizontalFlip(p=0.35),\n",
        "    transforms.RandomApply([transforms.RandomRotation(10)], p=0.35),\n",
        "    transforms.RandomApply([transforms.RandomResizedCrop(size=224, scale=(0.8, 1.2))], p=0.35),\n",
        "    transforms.RandomApply([transforms.RandomAffine(degrees=0, translate=(0.1, 0.1))], p=0.35),\n",
        "    transforms.ToTensor(),\n",
        "    transforms.Normalize([0.485, 0.456, 0.406], [0.229, 0.224, 0.225])\n",
        "])\n",
        "\n",
        "transform_test_res = transforms.Compose([\n",
        "    transforms.Grayscale(num_output_channels=3),\n",
        "    transforms.Resize(224),\n",
        "    transforms.ToTensor(),\n",
        "    transforms.Normalize([0.485, 0.456, 0.406], [0.229, 0.224, 0.225])\n",
        "])"
      ],
      "metadata": {
        "id": "b7yOA6SS-Xpg"
      },
      "execution_count": null,
      "outputs": []
    },
    {
      "cell_type": "code",
      "source": [
        "def get_accuracy(logit, target, batch_size):\n",
        "    \"\"\"Obtain accuracy for training round\"\"\"\n",
        "    corrects = (torch.max(logit, 1)[1].view(target.size()).data == target.data).sum()\n",
        "    ret_acc = 100.0 * corrects / batch_size\n",
        "    return ret_acc.item()"
      ],
      "metadata": {
        "id": "qq4Dstk8-DkK"
      },
      "execution_count": 4,
      "outputs": []
    },
    {
      "cell_type": "markdown",
      "source": [
        "# Data Processing"
      ],
      "metadata": {
        "id": "b4onJVzqjfqj"
      }
    },
    {
      "cell_type": "markdown",
      "source": [
        "Data was pulled from https://www.kaggle.com/c/challenges-in-representation-learning-facial-expression-recognition-challenge/data, which is FER2013's Kaggle competition, providing separated training and test datasets already."
      ],
      "metadata": {
        "id": "2y4V-vjbomo4"
      }
    },
    {
      "cell_type": "code",
      "source": [
        "# load in .csv\n",
        "with open('fer2013.csv', newline='', encoding='utf-8') as csvfile:\n",
        "    reader = csv.reader(csvfile)\n",
        "    for i, row in enumerate(reader):\n",
        "        if len(row) != 3:\n",
        "            print(f\"Row {i} has {len(row)} columns: {row}\")\n",
        "\n",
        "input_data = np.loadtxt('fer2013.csv', delimiter=',', skiprows=1, dtype=str)\n",
        "# input_data = input_data[input_data[:, 0] != '1']"
      ],
      "metadata": {
        "id": "xgPGLjuEjelX"
      },
      "execution_count": 5,
      "outputs": []
    },
    {
      "cell_type": "code",
      "source": [
        "# extract emotion labels\n",
        "all_labels = input_data[:, 0].astype(int)"
      ],
      "metadata": {
        "id": "kJUhaUYqz1Xq"
      },
      "execution_count": 6,
      "outputs": []
    },
    {
      "cell_type": "code",
      "source": [
        "# create np array from stacked pixel vals + ensure sizing\n",
        "pixel_data = np.array([np.fromstring(row, dtype=np.uint8, sep=' ') for row in input_data[:, 1]])\n",
        "pixel_data = pixel_data.reshape(-1, 48, 48)"
      ],
      "metadata": {
        "id": "kHpGnr3zxaTx"
      },
      "execution_count": 7,
      "outputs": []
    },
    {
      "cell_type": "code",
      "source": [
        "# get indices from input_data\n",
        "train_indices = np.where(input_data[:, 2] == 'Training')[0]\n",
        "test_indices = np.where(input_data[:, 2] == 'PublicTest')[0]\n",
        "split_t = int(0.8 * len(train_indices))"
      ],
      "metadata": {
        "id": "fEAONYho1bFY"
      },
      "execution_count": 8,
      "outputs": []
    },
    {
      "cell_type": "code",
      "source": [
        "# create datasets using custom class\n",
        "train_set = ProcessData(pixel_data[train_indices[split_t:]], all_labels[train_indices[split_t:]], transform=transform_train)\n",
        "validate_set = ProcessData(pixel_data[train_indices[:split_t]], all_labels[train_indices[:split_t]], transform=transform_test)\n",
        "test_set = ProcessData(pixel_data[test_indices], all_labels[test_indices], transform=transform_test)"
      ],
      "metadata": {
        "id": "0woBEQw13Ji-"
      },
      "execution_count": 9,
      "outputs": []
    },
    {
      "cell_type": "code",
      "source": [
        "batch_size = 64\n",
        "train = DataLoader(train_set, batch_size=batch_size, shuffle=True)\n",
        "vald = DataLoader(validate_set, batch_size=batch_size, shuffle=False)\n",
        "test = DataLoader(test_set, batch_size=batch_size, shuffle=False)"
      ],
      "metadata": {
        "id": "ZaYelLLj8Rgq"
      },
      "execution_count": 10,
      "outputs": []
    },
    {
      "cell_type": "markdown",
      "source": [
        "# CNN Model Building"
      ],
      "metadata": {
        "id": "jDB3dVA-jmeg"
      }
    },
    {
      "cell_type": "markdown",
      "source": [
        "https://github.com/gitshanks/fer2013/blob/master/fertrain.py\n",
        "https://www.kaggle.com/code/mohamedchahed/human-emotion-detection/notebook#Modeling\n",
        "https://github.com/sdhayalk/Facial_Emotion_Recognition/blob/master/Fer_CNN_FloydHub_Keras.py"
      ],
      "metadata": {
        "id": "dvhXswBN7b8u"
      }
    },
    {
      "cell_type": "code",
      "source": [
        "class CNN(nn.Module):\n",
        "    def __init__(self):\n",
        "        super(CNN, self).__init__()\n",
        "\n",
        "        self.conv1 = nn.Sequential(\n",
        "            nn.Conv2d(1, 64, kernel_size=3, padding=0, bias=False),\n",
        "            nn.ReLU(),\n",
        "            nn.Conv2d(64, 64, kernel_size=3, padding=1, bias=False),\n",
        "            nn.ReLU(),\n",
        "            nn.BatchNorm2d(64),\n",
        "            nn.MaxPool2d(kernel_size=2, stride=2),\n",
        "            nn.Dropout(0.2)\n",
        "        )\n",
        "\n",
        "        self.conv2 = nn.Sequential(\n",
        "            nn.Conv2d(64, 128, kernel_size=3, padding=1),\n",
        "            nn.ReLU(),\n",
        "            nn.BatchNorm2d(128),\n",
        "            nn.Conv2d(128, 128, kernel_size=3, padding=1),\n",
        "            nn.ReLU(),\n",
        "            nn.BatchNorm2d(128),\n",
        "            nn.MaxPool2d(kernel_size=2, stride=2),\n",
        "            nn.Dropout(0.2)\n",
        "        )\n",
        "\n",
        "        self.conv3 = nn.Sequential(\n",
        "            nn.Conv2d(128, 256, kernel_size=3, padding=1),\n",
        "            nn.ReLU(),\n",
        "            nn.BatchNorm2d(256),\n",
        "            nn.Conv2d(256, 256, kernel_size=3, padding=1),\n",
        "            nn.ReLU(),\n",
        "            nn.BatchNorm2d(256),\n",
        "            nn.MaxPool2d(kernel_size=2, stride=2),\n",
        "            nn.Dropout(0.2)\n",
        "        )\n",
        "\n",
        "        self.conv4 = nn.Sequential(\n",
        "            nn.Conv2d(256, 512, kernel_size=3, padding=1),\n",
        "            nn.ReLU(),\n",
        "            nn.BatchNorm2d(512),\n",
        "            nn.Conv2d(512, 512, kernel_size=3, padding=1),\n",
        "            nn.ReLU(),\n",
        "            nn.BatchNorm2d(512),\n",
        "            nn.MaxPool2d(kernel_size=2, stride=2),\n",
        "            nn.Dropout(0.2)\n",
        "        )\n",
        "\n",
        "        self.fc = nn.Sequential(\n",
        "            nn.Linear(512 * 2 * 2, 512),\n",
        "            nn.ReLU(),\n",
        "            nn.Dropout(0.2),\n",
        "\n",
        "            nn.Linear(512, 256),\n",
        "            nn.ReLU(),\n",
        "            nn.Dropout(0.2),\n",
        "\n",
        "            nn.Linear(256, 128),\n",
        "            nn.ReLU(),\n",
        "            nn.Dropout(0.2),\n",
        "\n",
        "            nn.Linear(128, 7)\n",
        "        )\n",
        "\n",
        "    def forward(self, x):\n",
        "        x = self.conv1(x)\n",
        "        x = self.conv2(x)\n",
        "        x = self.conv3(x)\n",
        "        x = self.conv4(x)\n",
        "        x = x.view(x.size(0), -1)\n",
        "        x = self.fc(x)\n",
        "        return x"
      ],
      "metadata": {
        "id": "JzsNvskljvXb"
      },
      "execution_count": 13,
      "outputs": []
    },
    {
      "cell_type": "code",
      "source": [
        "class CNN2(nn.Module):\n",
        "    def __init__(self):\n",
        "        super(CNN2, self).__init__()\n",
        "\n",
        "        self.conv_block1 = nn.Sequential(\n",
        "            nn.Conv2d(1, 32, kernel_size=3, padding=1),\n",
        "            nn.BatchNorm2d(32),\n",
        "\n",
        "            nn.Conv2d(32, 64, kernel_size=3, padding=1),\n",
        "            nn.ReLU(),\n",
        "            nn.BatchNorm2d(64),\n",
        "\n",
        "            nn.MaxPool2d(kernel_size=2, stride=2),\n",
        "            nn.Dropout(0.25)\n",
        "        )\n",
        "\n",
        "        self.conv_block2 = nn.Sequential(\n",
        "            nn.Conv2d(64, 128, kernel_size=3, padding=1),\n",
        "            nn.ReLU(),\n",
        "            nn.BatchNorm2d(128),\n",
        "\n",
        "            nn.Conv2d(128, 128, kernel_size=3, padding=1),\n",
        "            nn.ReLU(),\n",
        "            nn.BatchNorm2d(128),\n",
        "\n",
        "            nn.MaxPool2d(kernel_size=2, stride=2),\n",
        "            nn.Dropout(0.25)\n",
        "        )\n",
        "\n",
        "        self.conv_block3 = nn.Sequential(\n",
        "            nn.Conv2d(128, 256, kernel_size=3, padding=1),\n",
        "            nn.ReLU(),\n",
        "            nn.BatchNorm2d(256),\n",
        "\n",
        "            nn.Conv2d(256, 256, kernel_size=3, padding=1),\n",
        "            nn.ReLU(),\n",
        "            nn.BatchNorm2d(256),\n",
        "\n",
        "            nn.MaxPool2d(kernel_size=2, stride=2),\n",
        "            nn.Dropout(0.25)\n",
        "        )\n",
        "\n",
        "        self.fc_block = nn.Sequential(\n",
        "            nn.Flatten(),\n",
        "            nn.Linear(256 * 6 * 6, 256),\n",
        "            nn.ReLU(),\n",
        "            nn.BatchNorm1d(256),\n",
        "            nn.Dropout(0.5),\n",
        "\n",
        "            nn.Linear(256, 7)\n",
        "        )\n",
        "\n",
        "    def forward(self, x):\n",
        "        x = self.conv_block1(x)\n",
        "        x = self.conv_block2(x)\n",
        "        x = self.conv_block3(x)\n",
        "        x = self.fc_block(x)\n",
        "        return x"
      ],
      "metadata": {
        "id": "_GUWL7-cPxse"
      },
      "execution_count": 14,
      "outputs": []
    },
    {
      "cell_type": "code",
      "source": [
        "class CNN3(nn.Module):\n",
        "    def __init__(self):\n",
        "        super(CNN3, self).__init__()\n",
        "\n",
        "        self.block1 = nn.Sequential(\n",
        "            nn.Conv2d(1, 64, kernel_size=3, padding=1),\n",
        "            nn.ReLU(),\n",
        "            nn.Conv2d(64, 64, kernel_size=3, padding=1),\n",
        "            nn.ReLU(),\n",
        "            nn.MaxPool2d(kernel_size=2),\n",
        "            nn.BatchNorm2d(64),\n",
        "            nn.Dropout(0.2)\n",
        "        )\n",
        "\n",
        "        self.block2 = nn.Sequential(\n",
        "            nn.Conv2d(64, 128, kernel_size=3, padding=1),\n",
        "            nn.ReLU(),\n",
        "            nn.Conv2d(128, 128, kernel_size=3, padding=1),\n",
        "            nn.ReLU(),\n",
        "            nn.MaxPool2d(kernel_size=2),\n",
        "            nn.BatchNorm2d(128),\n",
        "            nn.Dropout(0.2)\n",
        "        )\n",
        "\n",
        "        self.block3 = nn.Sequential(\n",
        "            nn.Conv2d(128, 256, kernel_size=3, padding=1),\n",
        "            nn.ReLU(),\n",
        "            nn.Conv2d(256, 256, kernel_size=3, padding=1),\n",
        "            nn.ReLU(),\n",
        "            nn.Conv2d(256, 256, kernel_size=3, padding=1),\n",
        "            nn.ReLU(),\n",
        "            nn.MaxPool2d(kernel_size=2),\n",
        "            nn.BatchNorm2d(256),\n",
        "            nn.Dropout(0.2)\n",
        "        )\n",
        "\n",
        "        self.block4 = nn.Sequential(\n",
        "            nn.Conv2d(256, 512, kernel_size=3, padding=1),\n",
        "            nn.ReLU(),\n",
        "            nn.Conv2d(512, 512, kernel_size=3, padding=1),\n",
        "            nn.ReLU(),\n",
        "            nn.Conv2d(512, 512, kernel_size=3, padding=1),\n",
        "            nn.ReLU(),\n",
        "            nn.MaxPool2d(kernel_size=2),\n",
        "            nn.BatchNorm2d(512),\n",
        "            nn.Dropout(0.2)\n",
        "        )\n",
        "\n",
        "        self.fc = nn.Sequential(\n",
        "            nn.Flatten(),\n",
        "            nn.Linear(512 * 3 * 3, 4096),\n",
        "            nn.ReLU(),\n",
        "            nn.Dropout(0.5),\n",
        "            nn.Linear(4096, 7)\n",
        "        )\n",
        "\n",
        "    def forward(self, x):\n",
        "        x = self.block1(x)\n",
        "        x = self.block2(x)\n",
        "        x = self.block3(x)\n",
        "        x = self.block4(x)\n",
        "        x = self.fc(x)\n",
        "        return x"
      ],
      "metadata": {
        "id": "p-g1kw-EbwNZ"
      },
      "execution_count": 15,
      "outputs": []
    },
    {
      "cell_type": "markdown",
      "source": [
        "# Training"
      ],
      "metadata": {
        "id": "YORqUo2Djvyk"
      }
    },
    {
      "cell_type": "code",
      "source": [
        "device = torch.device(\"cuda\" if torch.cuda.is_available() else \"cpu\")\n",
        "model = CNN3().to(device)\n",
        "fine_tune = False\n",
        "\n",
        "# Hyperparameters\n",
        "num_epochs = 150\n",
        "batch_size = 64\n",
        "momentum = 0.9\n",
        "learning_rate = 0.01\n",
        "\n",
        "criterion = nn.CrossEntropyLoss(label_smoothing=0.1)\n",
        "optimizer = optim.SGD(model.parameters(), lr=learning_rate, momentum=momentum, weight_decay=5e-4)\n",
        "scheduler = torch.optim.lr_scheduler.ReduceLROnPlateau(optimizer, mode='max', factor=0.5, patience=5, min_lr=1e-6)\n",
        "\n",
        "train = DataLoader(train_set, batch_size=batch_size, shuffle=True)\n",
        "vald = DataLoader(validate_set, batch_size=batch_size, shuffle=False)\n",
        "test = DataLoader(test_set, batch_size=batch_size, shuffle=False)"
      ],
      "metadata": {
        "id": "lUnuKdG7lDgA"
      },
      "execution_count": null,
      "outputs": []
    },
    {
      "cell_type": "code",
      "source": [
        "model = models.vgg16(weights='DEFAULT')\n",
        "model.classifier[6] = nn.Linear(4096, 7)\n",
        "device = torch.device(\"cuda\" if torch.cuda.is_available() else \"cpu\")\n",
        "model = model.to(device)\n",
        "fine_tune = True\n",
        "for param in model.features.parameters():\n",
        "    param.requires_grad = False\n",
        "for param in model.classifier[6].parameters():\n",
        "    param.requires_grad = True\n",
        "\n",
        "# Hyperparameters FOR PRETRAINED TRANSFER MODELS VGG ONLY\n",
        "num_epochs = 30\n",
        "batch_size = 64\n",
        "learning_rate = 0.0001\n",
        "freeze_epochs = 8\n",
        "\n",
        "criterion = nn.CrossEntropyLoss(label_smoothing=0.1)\n",
        "optimizer = optim.Adam(filter(lambda p: p.requires_grad, model.parameters()), lr=learning_rate, weight_decay=1e-5)\n",
        "scheduler = torch.optim.lr_scheduler.CosineAnnealingWarmRestarts(optimizer, T_0=10, T_mult=2, eta_min=1e-6)\n",
        "\n",
        "train_set = ProcessData(pixel_data[train_indices[split_t:]], all_labels[train_indices[split_t:]], transform=transform_train_vgg)\n",
        "validate_set = ProcessData(pixel_data[train_indices[:split_t]], all_labels[train_indices[:split_t]], transform=transform_test_vgg)\n",
        "test_set = ProcessData(pixel_data[test_indices], all_labels[test_indices], transform=transform_test_vgg)\n",
        "\n",
        "train = DataLoader(train_set, batch_size=batch_size, shuffle=True)\n",
        "vald = DataLoader(validate_set, batch_size=batch_size, shuffle=False)\n",
        "test = DataLoader(test_set, batch_size=batch_size, shuffle=False)"
      ],
      "metadata": {
        "id": "m4eUUvxPidq0",
        "colab": {
          "base_uri": "https://localhost:8080/"
        },
        "outputId": "dde9bb52-2e56-4400-c423-6786e33df099"
      },
      "execution_count": null,
      "outputs": [
        {
          "output_type": "stream",
          "name": "stderr",
          "text": [
            "Downloading: \"https://download.pytorch.org/models/vgg16-397923af.pth\" to /root/.cache/torch/hub/checkpoints/vgg16-397923af.pth\n",
            "100%|██████████| 528M/528M [00:06<00:00, 81.0MB/s]\n"
          ]
        }
      ]
    },
    {
      "cell_type": "code",
      "source": [
        "model = models.resnet18(weights='DEFAULT')\n",
        "model.fc = nn.Linear(model.fc.in_features, 7)\n",
        "device = torch.device(\"cuda\" if torch.cuda.is_available() else \"cpu\")\n",
        "model = model.to(device)\n",
        "fine_tune = True\n",
        "for name, param in model.named_parameters():\n",
        "    if 'fc' not in name:\n",
        "        param.requires_grad = False\n",
        "\n",
        "# Hyperparameters FOR PRETRAINED TRANSFER MODELS VGG ONLY\n",
        "num_epochs = 30\n",
        "batch_size = 64\n",
        "learning_rate = 0.0001\n",
        "\n",
        "criterion = nn.CrossEntropyLoss(label_smoothing=0.1)\n",
        "optimizer = optim.Adam(model.parameters(), lr=learning_rate, weight_decay=1e-5)\n",
        "scheduler = torch.optim.lr_scheduler.CosineAnnealingWarmRestarts(optimizer, T_0=10, T_mult=2, eta_min=1e-6)\n",
        "\n",
        "train_set = ProcessData(pixel_data[train_indices[split_t:]], all_labels[train_indices[split_t:]], transform=transform_train_res)\n",
        "validate_set = ProcessData(pixel_data[train_indices[:split_t]], all_labels[train_indices[:split_t]], transform=transform_test_res)\n",
        "test_set = ProcessData(pixel_data[test_indices], all_labels[test_indices], transform=transform_test_res)\n",
        "\n",
        "train = DataLoader(train_set, batch_size=batch_size, shuffle=True)\n",
        "vald = DataLoader(validate_set, batch_size=batch_size, shuffle=False)\n",
        "test = DataLoader(test_set, batch_size=batch_size, shuffle=False)"
      ],
      "metadata": {
        "id": "f7sFwj4f_BH5",
        "colab": {
          "base_uri": "https://localhost:8080/"
        },
        "outputId": "780a5900-01ee-46a5-f345-de0582ff860c"
      },
      "execution_count": null,
      "outputs": [
        {
          "output_type": "stream",
          "name": "stderr",
          "text": [
            "Downloading: \"https://download.pytorch.org/models/resnet18-f37072fd.pth\" to /root/.cache/torch/hub/checkpoints/resnet18-f37072fd.pth\n",
            "100%|██████████| 44.7M/44.7M [00:02<00:00, 22.5MB/s]\n"
          ]
        }
      ]
    },
    {
      "cell_type": "code",
      "source": [
        "training_stat = []\n",
        "best_val_acc = 0\n",
        "early_stopping_patience = 10\n",
        "cur_patience = 0\n",
        "temp_lr = learning_rate\n",
        "\n",
        "for epoch in range(num_epochs):\n",
        "    start_time = time.time()\n",
        "\n",
        "    model.train()\n",
        "    train_running_loss = 0.0\n",
        "    train_acc = 0.0\n",
        "\n",
        "    if fine_tune and epoch % 8 == 0 and epoch < 30:\n",
        "        # VGG\n",
        "        # if epoch == 8:\n",
        "        #     for param in model.features[15:].parameters():\n",
        "        #         param.requires_grad = True\n",
        "        # elif epoch == 16:\n",
        "        #     for param in model.features[10:].parameters():\n",
        "        #         param.requires_grad = True\n",
        "        #     for param in model.classifier[3:].parameters():\n",
        "        #         param.requires_grad = True\n",
        "        # elif epoch == 24:\n",
        "        #     for param in model.features[5:].parameters():\n",
        "        #         param.requires_grad = True\n",
        "        #     for param in model.classifier.parameters():\n",
        "        #         param.requires_grad = True\n",
        "\n",
        "        # RESNET\n",
        "        if epoch == 8:\n",
        "            for param in model.layer4.parameters():\n",
        "                param.requires_grad = True\n",
        "        elif epoch == 16:\n",
        "            for param in model.layer3.parameters():\n",
        "                param.requires_grad = True\n",
        "        elif epoch == 24:\n",
        "            for param in model.layer2.parameters():\n",
        "                param.requires_grad = True\n",
        "\n",
        "        temp_lr *= 0.1\n",
        "        for rate in optimizer.param_groups:\n",
        "            rate['lr'] = temp_lr * 0.1\n",
        "\n",
        "\n",
        "    for images, labels in train:\n",
        "        images, labels = images.to(device), labels.to(device)\n",
        "        logits = model(images)\n",
        "        loss = criterion(logits, labels)\n",
        "        optimizer.zero_grad()\n",
        "        loss.backward()\n",
        "        optimizer.step()\n",
        "\n",
        "        train_running_loss += loss.detach().item()\n",
        "        train_acc += get_accuracy(logits, labels, batch_size)\n",
        "\n",
        "    model.eval()\n",
        "    val_acc = 0.0\n",
        "    val_running_loss = 0.0\n",
        "\n",
        "    with torch.no_grad():\n",
        "        for images, labels in vald:\n",
        "            images, labels = images.to(device), labels.to(device)\n",
        "            logits = model(images)\n",
        "            loss = criterion(logits, labels)\n",
        "\n",
        "            val_running_loss += loss.detach().item()\n",
        "            val_acc += get_accuracy(logits, labels, batch_size)\n",
        "\n",
        "    if fine_tune:\n",
        "        scheduler.step()\n",
        "    else:\n",
        "        scheduler.step(val_acc / len(vald.dataset))\n",
        "\n",
        "    end_time = time.time()\n",
        "    epoch_time = end_time - start_time\n",
        "\n",
        "    training_stat.append([epoch, epoch_time, train_running_loss / len(train), train_acc / len(train), val_running_loss / len(vald), val_acc / len(vald)])\n",
        "    print('Epoch: %d | Time: %.2fs | Train Loss: %.2f | Train Accuracy: %.2f | Validation Loss: %.2f | Validation Accuracy: %.2f'\n",
        "          % (epoch, epoch_time, train_running_loss / len(train), train_acc / len(train), val_running_loss / len(vald), val_acc / len(vald)))\n",
        "\n",
        "    if val_acc / len(vald) > best_val_acc:\n",
        "        cur_patience = 0\n",
        "        best_val_acc = val_acc / len(vald)\n",
        "        torch.save(model.state_dict(), 'model_res.pth')\n",
        "        np.savetxt(\"final_training_log_model_res.csv\", np.array(training_stat), delimiter=\",\",\n",
        "          header=\"Epoch,Time,Train Loss,Train Accuracy,Validation Loss,Validation Accuracy\",\n",
        "          comments='', fmt='%.2f')\n",
        "    else:\n",
        "        cur_patience += 1\n",
        "        if cur_patience >= early_stopping_patience:\n",
        "            np.savetxt(\"final_training_log_model_res.csv\", np.array(training_stat), delimiter=\",\",\n",
        "            header=\"Epoch,Time,Train Loss,Train Accuracy,Validation Loss,Validation Accuracy\",\n",
        "            comments='', fmt='%.2f')\n",
        "            print(f\"Early stopping triggered.\\n Best Accuracy: {best_val_acc:.4f}\")\n",
        "            break"
      ],
      "metadata": {
        "id": "z5fsUG1f5a0S",
        "colab": {
          "base_uri": "https://localhost:8080/"
        },
        "outputId": "8fb5f9bb-2271-4721-b0b7-fc77a977dc1f"
      },
      "execution_count": null,
      "outputs": [
        {
          "output_type": "stream",
          "name": "stdout",
          "text": [
            "Epoch: 0 | Time: 85.70s | Train Loss: 1.77 | Train Accuracy: 30.61 | Validation Loss: 1.78 | Validation Accuracy: 30.52\n",
            "Epoch: 1 | Time: 84.27s | Train Loss: 1.76 | Train Accuracy: 30.89 | Validation Loss: 1.78 | Validation Accuracy: 30.90\n",
            "Epoch: 2 | Time: 85.69s | Train Loss: 1.76 | Train Accuracy: 31.46 | Validation Loss: 1.77 | Validation Accuracy: 31.06\n",
            "Epoch: 3 | Time: 85.28s | Train Loss: 1.76 | Train Accuracy: 32.19 | Validation Loss: 1.77 | Validation Accuracy: 31.17\n",
            "Epoch: 4 | Time: 84.90s | Train Loss: 1.75 | Train Accuracy: 31.49 | Validation Loss: 1.76 | Validation Accuracy: 32.19\n",
            "Epoch: 5 | Time: 82.86s | Train Loss: 1.73 | Train Accuracy: 32.99 | Validation Loss: 1.74 | Validation Accuracy: 33.53\n",
            "Epoch: 6 | Time: 83.73s | Train Loss: 1.72 | Train Accuracy: 34.65 | Validation Loss: 1.73 | Validation Accuracy: 34.69\n",
            "Epoch: 7 | Time: 81.94s | Train Loss: 1.71 | Train Accuracy: 35.69 | Validation Loss: 1.72 | Validation Accuracy: 35.70\n",
            "Epoch: 8 | Time: 85.41s | Train Loss: 1.70 | Train Accuracy: 36.89 | Validation Loss: 1.71 | Validation Accuracy: 35.77\n",
            "Epoch: 9 | Time: 83.91s | Train Loss: 1.51 | Train Accuracy: 46.68 | Validation Loss: 1.45 | Validation Accuracy: 50.61\n",
            "Epoch: 10 | Time: 85.55s | Train Loss: 1.32 | Train Accuracy: 58.47 | Validation Loss: 1.39 | Validation Accuracy: 54.47\n",
            "Epoch: 11 | Time: 84.84s | Train Loss: 1.21 | Train Accuracy: 64.01 | Validation Loss: 1.37 | Validation Accuracy: 55.54\n",
            "Epoch: 12 | Time: 86.46s | Train Loss: 1.13 | Train Accuracy: 67.71 | Validation Loss: 1.36 | Validation Accuracy: 56.01\n",
            "Epoch: 13 | Time: 83.07s | Train Loss: 1.07 | Train Accuracy: 71.79 | Validation Loss: 1.35 | Validation Accuracy: 57.33\n",
            "Epoch: 14 | Time: 84.63s | Train Loss: 1.01 | Train Accuracy: 74.81 | Validation Loss: 1.37 | Validation Accuracy: 57.26\n",
            "Epoch: 15 | Time: 83.89s | Train Loss: 0.96 | Train Accuracy: 77.55 | Validation Loss: 1.37 | Validation Accuracy: 57.62\n",
            "Epoch: 16 | Time: 87.20s | Train Loss: 0.92 | Train Accuracy: 79.97 | Validation Loss: 1.37 | Validation Accuracy: 57.67\n",
            "Epoch: 17 | Time: 85.66s | Train Loss: 0.91 | Train Accuracy: 80.69 | Validation Loss: 1.37 | Validation Accuracy: 58.20\n",
            "Epoch: 18 | Time: 87.03s | Train Loss: 0.88 | Train Accuracy: 82.41 | Validation Loss: 1.37 | Validation Accuracy: 58.20\n",
            "Epoch: 19 | Time: 85.75s | Train Loss: 0.85 | Train Accuracy: 83.61 | Validation Loss: 1.37 | Validation Accuracy: 58.50\n",
            "Epoch: 20 | Time: 86.89s | Train Loss: 0.82 | Train Accuracy: 85.57 | Validation Loss: 1.37 | Validation Accuracy: 58.46\n",
            "Epoch: 21 | Time: 85.19s | Train Loss: 0.80 | Train Accuracy: 86.46 | Validation Loss: 1.37 | Validation Accuracy: 58.46\n",
            "Epoch: 22 | Time: 87.39s | Train Loss: 0.80 | Train Accuracy: 85.87 | Validation Loss: 1.37 | Validation Accuracy: 58.61\n",
            "Epoch: 23 | Time: 86.20s | Train Loss: 0.80 | Train Accuracy: 86.63 | Validation Loss: 1.37 | Validation Accuracy: 58.55\n",
            "Epoch: 24 | Time: 87.54s | Train Loss: 0.79 | Train Accuracy: 87.03 | Validation Loss: 1.37 | Validation Accuracy: 58.62\n",
            "Epoch: 25 | Time: 86.83s | Train Loss: 0.88 | Train Accuracy: 81.72 | Validation Loss: 1.47 | Validation Accuracy: 56.38\n",
            "Epoch: 26 | Time: 87.56s | Train Loss: 0.84 | Train Accuracy: 83.42 | Validation Loss: 1.44 | Validation Accuracy: 57.37\n",
            "Epoch: 27 | Time: 86.30s | Train Loss: 0.76 | Train Accuracy: 87.62 | Validation Loss: 1.46 | Validation Accuracy: 57.41\n",
            "Epoch: 28 | Time: 87.25s | Train Loss: 0.72 | Train Accuracy: 89.88 | Validation Loss: 1.45 | Validation Accuracy: 58.06\n",
            "Epoch: 29 | Time: 86.84s | Train Loss: 0.67 | Train Accuracy: 92.01 | Validation Loss: 1.45 | Validation Accuracy: 58.13\n"
          ]
        }
      ]
    },
    {
      "cell_type": "markdown",
      "source": [
        "# Load Existing Models Functions"
      ],
      "metadata": {
        "id": "y3hu_FTP88Z-"
      }
    },
    {
      "cell_type": "code",
      "source": [
        "# Create ensemble\n",
        "device = torch.device(\"cuda\" if torch.cuda.is_available() else \"cpu\")\n",
        "# device = torch.device(\"cpu\")\n",
        "\n",
        "cnn1 = CNN()\n",
        "cnn1.load_state_dict(torch.load('model_cnn1.pth'))\n",
        "cnn1 = cnn1.to(device)\n",
        "cnn1.eval()\n",
        "\n",
        "cnn2 = CNN2().to(device)\n",
        "cnn2.load_state_dict(torch.load('model_cnn2.pth'))\n",
        "cnn2.eval()\n",
        "\n",
        "cnn3 = CNN3().to(device)\n",
        "cnn3.load_state_dict(torch.load('model_cnn3.pth'))\n",
        "cnn3.eval()\n",
        "\n",
        "vgg_model = models.vgg16(weights=None)\n",
        "vgg_model.classifier[6] = nn.Linear(4096, 7)\n",
        "vgg_model.load_state_dict(torch.load('model_vgg.pth'))\n",
        "vgg_model = vgg_model.to(device)\n",
        "\n",
        "resnet_model = models.resnet18(weights=None)\n",
        "resnet_model.fc = nn.Linear(resnet_model.fc.in_features, 7)\n",
        "resnet_model.load_state_dict(torch.load('model_res.pth'))\n",
        "resnet_model = resnet_model.to(device)\n",
        "\n",
        "models_list = [cnn1, cnn2, cnn3, vgg_model, resnet_model]"
      ],
      "metadata": {
        "id": "mFjI07ZPV4X4"
      },
      "execution_count": 277,
      "outputs": []
    },
    {
      "cell_type": "markdown",
      "source": [
        "# GradCAM on Models"
      ],
      "metadata": {
        "id": "ic0Tbr_AFha3"
      }
    },
    {
      "cell_type": "code",
      "source": [
        "cam_extractor = GradCAM(model, target_layer=model.block1[2])"
      ],
      "metadata": {
        "id": "FuGVrP_W3iSO"
      },
      "execution_count": 282,
      "outputs": []
    },
    {
      "cell_type": "code",
      "source": [
        "data_iter = iter(train)\n",
        "images, labels = next(data_iter)\n",
        "image = images[0].unsqueeze(0)\n",
        "image = image.mean(dim=1, keepdim=True)\n",
        "\n",
        "output = model(image)\n",
        "class_idx = output.argmax(dim=1).item()\n",
        "activation_map = cam_extractor(class_idx, output)[0]\n",
        "activation_map = activation_map.mean(dim=0).cpu().detach().numpy()\n",
        "\n",
        "activation_map -= activation_map.min()\n",
        "activation_map /= activation_map.max()\n",
        "activation_map = cv2.resize(activation_map, (48, 48))\n",
        "\n",
        "plt.imshow(activation_map.squeeze(), cmap='jet', alpha=0.5)\n",
        "plt.imshow(image.squeeze().cpu().detach().numpy(), cmap='gray', alpha=0.5)\n",
        "plt.axis('off')\n",
        "plt.show()"
      ],
      "metadata": {
        "colab": {
          "base_uri": "https://localhost:8080/",
          "height": 406
        },
        "id": "4poqi0mPFjmN",
        "outputId": "616f6914-991b-4fc3-f93b-2726c25e01fb"
      },
      "execution_count": 289,
      "outputs": [
        {
          "output_type": "display_data",
          "data": {
            "text/plain": [
              "<Figure size 640x480 with 1 Axes>"
            ],
            "image/png": "[encoded data removed]"
          },
          "metadata": {}
        }
      ]
    },
    {
      "cell_type": "markdown",
      "source": [
        "# Testing"
      ],
      "metadata": {
        "id": "sWT_CXW3jzRQ"
      }
    },
    {
      "cell_type": "code",
      "source": [
        "def get_accuracy_ensemble(preds, target, batch_size):\n",
        "    corrects = (preds == target).sum().item()\n",
        "    return 100.0 * corrects / batch_size"
      ],
      "metadata": {
        "id": "mcKrqvdeAgqz"
      },
      "execution_count": 46,
      "outputs": []
    },
    {
      "cell_type": "code",
      "source": [
        "def soft_voting_ensemble(models, input_batch):\n",
        "    model_probs = []\n",
        "    for i, model in enumerate(models_list):\n",
        "        model = model.to(input_batch.device)\n",
        "        model.eval()\n",
        "\n",
        "        if i < 3: # cnn models, need 1 channel gray\n",
        "            if input_batch.shape[1] == 3:\n",
        "                current_input = input_batch.mean(dim=1, keepdim=True)\n",
        "            else:\n",
        "                current_input = input_batch\n",
        "        else:  # vgg or res, need 3 channel gray, 224 x 224\n",
        "            if input_batch.shape[1] == 1:\n",
        "                current_input = input_batch.repeat(1, 3, 1, 1)\n",
        "            current_input = torch.nn.functional.interpolate(current_input, size=(224, 224), mode='bilinear')\n",
        "        input_batch = current_input\n",
        "\n",
        "        with torch.no_grad():\n",
        "            logits = model(input_batch)\n",
        "            probs = torch.nn.functional.softmax(logits, dim=1)\n",
        "            model_probs.append(probs)\n",
        "\n",
        "    avg_probs = torch.stack(model_probs).mean(dim=0)\n",
        "    final_preds = torch.argmax(avg_probs, dim=1)\n",
        "    return final_preds, avg_probs"
      ],
      "metadata": {
        "id": "yfmgq8d9rFlq"
      },
      "execution_count": 69,
      "outputs": []
    },
    {
      "cell_type": "code",
      "source": [
        "# ENSEMBLE TESTING ONLY\n",
        "test_acc = 0.0\n",
        "output = []\n",
        "\n",
        "for images, labels in test:\n",
        "    images, labels = images.to(device), labels.to(device)\n",
        "\n",
        "    predictions, _ = soft_voting_ensemble(models, images)\n",
        "    test_acc += get_accuracy_ensemble(predictions, labels, batch_size)\n",
        "    output.extend(predictions.cpu().numpy())\n",
        "\n",
        "print('Test Accuracy: %.2f' % (test_acc / len(test)))"
      ],
      "metadata": {
        "id": "gar696cWBjZZ",
        "colab": {
          "base_uri": "https://localhost:8080/"
        },
        "outputId": "b65ee2a1-b091-4729-ff13-9e66fb91a0a8"
      },
      "execution_count": 48,
      "outputs": [
        {
          "output_type": "stream",
          "name": "stdout",
          "text": [
            "Test Accuracy: 61.43\n"
          ]
        }
      ]
    },
    {
      "cell_type": "code",
      "source": [
        "all_labels = []\n",
        "\n",
        "for _, labels in test:\n",
        "    all_labels.extend(labels.cpu().numpy())\n",
        "\n",
        "all_labels = np.array(all_labels)\n",
        "\n",
        "conf_matrix = confusion_matrix(all_labels, output)\n",
        "\n",
        "sns.heatmap(conf_matrix, annot=True, fmt=\"d\", cmap=\"Blues\",\n",
        "            xticklabels=['Angry', 'Disgust', 'Fear', 'Happy', 'Sad', 'Surprise', 'Neutral'],\n",
        "            yticklabels=['Angry', 'Disgust', 'Fear', 'Happy', 'Sad', 'Surprise', 'Neutral'])\n",
        "plt.xlabel(\"Predicted\")\n",
        "plt.ylabel(\"Actual\")\n",
        "plt.title(\"Confusion Matrix\")\n",
        "plt.show()"
      ],
      "metadata": {
        "colab": {
          "base_uri": "https://localhost:8080/",
          "height": 472
        },
        "id": "rZ7XAmQFqwBv",
        "outputId": "830b0ee3-8986-44a9-d880-37c3fa9d85ca"
      },
      "execution_count": 49,
      "outputs": [
        {
          "output_type": "display_data",
          "data": {
            "text/plain": [
              "<Figure size 640x480 with 2 Axes>"
            ],
            "image/png": "[encoded data removed]"
          },
          "metadata": {}
        }
      ]
    },
    {
      "cell_type": "code",
      "source": [
        "model = cnn3"
      ],
      "metadata": {
        "id": "e1O093hZp9Jr"
      },
      "execution_count": 77,
      "outputs": []
    },
    {
      "cell_type": "code",
      "source": [
        "model.eval()\n",
        "test_acc = 0.0\n",
        "\n",
        "for images, labels in test:\n",
        "    images, labels = images.to(device), labels.to(device)\n",
        "\n",
        "    _, logits = soft_voting_ensemble([model], images)\n",
        "    test_acc += get_accuracy(logits, labels, batch_size)\n",
        "\n",
        "print('Test Accuracy: %.2f' % (test_acc / len(test)))"
      ],
      "metadata": {
        "id": "yMrYLvzzAlUk",
        "colab": {
          "base_uri": "https://localhost:8080/"
        },
        "outputId": "f9cb7eb3-643d-4887-ec75-07e7420bd829"
      },
      "execution_count": 65,
      "outputs": [
        {
          "output_type": "stream",
          "name": "stdout",
          "text": [
            "Test Accuracy: 61.43\n"
          ]
        }
      ]
    },
    {
      "cell_type": "markdown",
      "source": [
        "# Video Section"
      ],
      "metadata": {
        "id": "wAcnHhh5Nsa4"
      }
    },
    {
      "cell_type": "markdown",
      "source": [
        "https://realpython.com/face-recognition-with-python/\n",
        "\n",
        "https://www.geeksforgeeks.org/face-detection-using-cascade-classifier-using-opencv-python/"
      ],
      "metadata": {
        "id": "oVvzuvhdZlWF"
      }
    },
    {
      "cell_type": "code",
      "source": [
        "import time\n",
        "import numpy as np\n",
        "import cv2\n",
        "import torch\n",
        "\n",
        "grad_map = False\n",
        "\n",
        "# Parameters for emotion smoothing\n",
        "HISTORY_SIZE = 10\n",
        "CONFIDENCE_THRESHOLD = 0.6\n",
        "\n",
        "# Simple face filtering parameters\n",
        "MIN_FACE_SIZE = 60\n",
        "MIN_FACE_NEIGHBORS = 7\n",
        "MAX_FACES = 1\n",
        "\n",
        "frame_list = []\n",
        "emotion = {0: 'Angry', 1: 'Disgust', 2: 'Fear', 3: 'Happy', 4: 'Sad', 5: 'Surprise', 6: 'Neutral'}\n",
        "\n",
        "# Initialize emotion history tracker\n",
        "emotion_history = []\n",
        "current_display_emotion = 6\n",
        "\n",
        "last_face_pos = None\n",
        "\n",
        "video = cv2.VideoCapture('faces.mp4')\n",
        "faceCascade = cv2.CascadeClassifier(\"haarcascade_frontalface_default.xml\")\n",
        "\n",
        "while True:\n",
        "    ret, frame = video.read()\n",
        "\n",
        "    if not ret:\n",
        "        break\n",
        "\n",
        "    gray = cv2.cvtColor(frame, cv2.COLOR_BGR2GRAY)\n",
        "\n",
        "    faces = faceCascade.detectMultiScale(\n",
        "        gray,\n",
        "        scaleFactor=1.1,\n",
        "        minNeighbors=MIN_FACE_NEIGHBORS,\n",
        "        minSize=(MIN_FACE_SIZE, MIN_FACE_SIZE),\n",
        "        flags=cv2.CASCADE_SCALE_IMAGE\n",
        "    )\n",
        "\n",
        "    if len(faces) > 0:\n",
        "        faces = sorted(faces, key=lambda x: x[2] * x[3], reverse=True)\n",
        "        x, y, w, h = faces[0]\n",
        "        valid_face = True\n",
        "\n",
        "        aspect_ratio = w / h\n",
        "        if aspect_ratio < 0.5 or aspect_ratio > 2.0:\n",
        "            valid_face = False\n",
        "\n",
        "        if last_face_pos is not None:\n",
        "            prev_x, prev_y, prev_w, prev_h = last_face_pos\n",
        "            current_center = (x + w/2, y + h/2)\n",
        "            prev_center = (prev_x + prev_w/2, prev_y + prev_h/2)\n",
        "            distance = np.sqrt((current_center[0] - prev_center[0])**2 +\n",
        "                            (current_center[1] - prev_center[1])**2)\n",
        "            if distance > max(prev_w, prev_h):\n",
        "                valid_face = True\n",
        "\n",
        "        if valid_face:\n",
        "            last_face_pos = (x, y, w, h)\n",
        "            cv2.rectangle(frame, (x, y), (x+w, y+h), (0, 255, 0), 2)\n",
        "            face = gray[y:y+h, x:x+w]\n",
        "            model_input = cv2.resize(face, (48, 48)).astype(np.float32) / 255.0\n",
        "            model_input = torch.tensor(model_input, dtype=torch.float32).unsqueeze(0).unsqueeze(0)\n",
        "\n",
        "            if grad_map:\n",
        "                model_input.requires_grad_()\n",
        "                out = model(model_input)\n",
        "                pred_class = out.squeeze(0).argmax().item()\n",
        "\n",
        "                cam = cam_extractor(pred_class, out)[0].detach().cpu().numpy()\n",
        "                cam = np.squeeze(cam)\n",
        "\n",
        "                cam_resized = cv2.resize(cam, (w, h))\n",
        "\n",
        "                heatmap = (cam_resized - cam_resized.min()) / (cam_resized.max() - cam_resized.min() + 1e-8)\n",
        "                heatmap = np.uint8(255 * heatmap)\n",
        "                heatmap_color = cv2.applyColorMap(heatmap, cv2.COLORMAP_JET)\n",
        "\n",
        "                face_rgb = cv2.cvtColor(face, cv2.COLOR_GRAY2BGR)\n",
        "                face_rgb_resized = cv2.resize(face_rgb, (w, h))\n",
        "                overlay = cv2.addWeighted(face_rgb_resized, 0.5, heatmap_color, 0.5, 0)\n",
        "\n",
        "                frame[y:y+h, x:x+w] = overlay\n",
        "\n",
        "                cv2.putText(frame, emotion[pred_class], (x, y-10),\n",
        "                          cv2.FONT_HERSHEY_SIMPLEX, 0.9, (36, 255, 12), 2)\n",
        "            else:\n",
        "                with torch.no_grad():\n",
        "                    final_preds, logits = soft_voting_ensemble(models, model_input)\n",
        "                    detected_emotion = int(final_preds.item())\n",
        "                    emotion_history.append(detected_emotion)\n",
        "\n",
        "                    if len(emotion_history) > HISTORY_SIZE:\n",
        "                        emotion_history.pop(0)\n",
        "\n",
        "                    emotion_count = {}\n",
        "                    for e in emotion_history:\n",
        "                        emotion_count[e] = emotion_count.get(e, 0) + 1\n",
        "\n",
        "                    most_common_emotion = max(emotion_count, key=emotion_count.get)\n",
        "                    frequency = emotion_count[most_common_emotion] / len(emotion_history)\n",
        "\n",
        "                    if frequency >= CONFIDENCE_THRESHOLD:\n",
        "                        current_display_emotion = most_common_emotion\n",
        "\n",
        "                    confidence_text = f\"{int(frequency * 100)}%\"\n",
        "                    emotion_text = f\"{emotion[current_display_emotion]} ({confidence_text})\"\n",
        "\n",
        "                    cv2.putText(frame, emotion_text, (x, y-10),\n",
        "                              cv2.FONT_HERSHEY_SIMPLEX, 0.9, (36, 255, 12), 2)\n",
        "\n",
        "                    raw_emotion_text = f\"Raw: {emotion[detected_emotion]}\"\n",
        "                    cv2.putText(frame, raw_emotion_text, (x, y+h+20),\n",
        "                              cv2.FONT_HERSHEY_SIMPLEX, 0.6, (255, 0, 0), 1)\n",
        "        else:\n",
        "            cv2.rectangle(frame, (x, y), (x+w, y+h), (0, 0, 255), 2)\n",
        "            cv2.putText(frame, \"Invalid Face\", (x, y-10),\n",
        "                      cv2.FONT_HERSHEY_SIMPLEX, 0.7, (0, 0, 255), 2)\n",
        "    else:\n",
        "        if emotion_history:\n",
        "            cv2.putText(frame, \"No face detected\", (10, 30),\n",
        "                      cv2.FONT_HERSHEY_SIMPLEX, 0.7, (0, 0, 255), 2)\n",
        "\n",
        "    frame_list.append(frame.copy())\n",
        "\n",
        "frame_width = int(video.get(cv2.CAP_PROP_FRAME_WIDTH))\n",
        "frame_height = int(video.get(cv2.CAP_PROP_FRAME_HEIGHT))\n",
        "fps = int(video.get(cv2.CAP_PROP_FPS))\n",
        "\n",
        "video.release()\n",
        "\n",
        "out = cv2.VideoWriter(\"face_detected_simple_filtering_la.mp4\", cv2.VideoWriter_fourcc(*'MP4V'), fps, (frame_width, frame_height))\n",
        "\n",
        "for frame in frame_list:\n",
        "    out.write(frame)\n",
        "out.release()"
      ],
      "metadata": {
        "id": "Qb_mfrsHKUHO"
      },
      "execution_count": 292,
      "outputs": []
    }
  ],
  "metadata": {
    "language_info": {
      "name": "python"
    },
    "colab": {
      "provenance": [],
      "collapsed_sections": [
        "jDB3dVA-jmeg"
      ],
      "gpuType": "T4"
    },
    "kernelspec": {
      "name": "python3",
      "display_name": "Python 3"
    },
    "accelerator": "GPU"
  },
  "nbformat": 4,
  "nbformat_minor": 0
}